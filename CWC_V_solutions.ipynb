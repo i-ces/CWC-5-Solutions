{
  "nbformat": 4,
  "nbformat_minor": 0,
  "metadata": {
    "colab": {
      "name": " CWC V solutions.ipynb",
      "provenance": [],
      "collapsed_sections": []
    },
    "kernelspec": {
      "name": "python3",
      "display_name": "Python 3"
    },
    "language_info": {
      "name": "python"
    }
  },
  "cells": [
    {
      "cell_type": "markdown",
      "source": [
        "\n",
        "\n",
        "> Question 1   . \n",
        "When Bonica was doing Bachelors, she was in great financial crisis. So she started giving English home tution to class 6 students.\n",
        "But kids were making spelling mistakes frequently. Sometimes they spelled \"corona\" as \"conora\". Others common errors made were like \"pneumonia\" being spelled as \"numonea\". She was bored in finding  out the steps required to convert one wrong string to right string.  Your task will be to help Bonica .\n",
        "\n",
        "You will be given two strings, one will have incorrect spelling and one will have correct spelling. Strings can be of same length or different length. What is the least number of operation required to convert wrongly spelled string by kids to  string without spelling mistake.\n",
        "\n",
        "Note: Both strings will be in lowercase.\n",
        "\n",
        "For example :\n",
        "str1 = \"acheive\" (incorrect)\n",
        "str2 = \"achieve\" (correct)\n",
        "\n",
        "In this case least number operation required for word correction = 2\n",
        "\n",
        "#this question is actually levenshtein distance algorithm"
      ],
      "metadata": {
        "id": "qn4gM_3MDqw9"
      }
    },
    {
      "cell_type": "code",
      "execution_count": null,
      "metadata": {
        "id": "9WIXdTyaCmRo"
      },
      "outputs": [],
      "source": [
        "def editDistance(str1, str2, str1_len, str2_len): \n",
        "    distance_matrix = [[0 for x in range(str2_len+1)] for x in range(str1_len+1)] \n",
        "    for i in range(str1_len+1): \n",
        "        for j in range(str2_len+1): \n",
        "            if i == 0: \n",
        "                distance_matrix[i][j] = j\n",
        "            elif j == 0: \n",
        "                distance_matrix[i][j] = i\n",
        "            elif str1[i-1] == str2[j-1]: \n",
        "                distance_matrix[i][j] = distance_matrix[i-1][j-1] \n",
        "            else: \n",
        "                distance_matrix[i][j] =     min(distance_matrix[i][j-1] + 1,       \n",
        "                                   distance_matrix[i-1][j] + 1,        \n",
        "                                   distance_matrix[i-1][j-1] + 1)    \n",
        "    return distance_matrix[str1_len][str2_len] "
      ]
    },
    {
      "cell_type": "code",
      "source": [
        "editDistance(\"emigrate\", \"immigrate\", len(\"emigrate\"),len(\"immigrate\"))  "
      ],
      "metadata": {
        "colab": {
          "base_uri": "https://localhost:8080/"
        },
        "id": "9IKzqkXdCtD7",
        "outputId": "0a908c27-1cbf-4aa2-910c-6baf44b31300"
      },
      "execution_count": null,
      "outputs": [
        {
          "output_type": "execute_result",
          "data": {
            "text/plain": [
              "2"
            ]
          },
          "metadata": {},
          "execution_count": 2
        }
      ]
    },
    {
      "cell_type": "code",
      "source": [
        "editDistance(\"elicit\", \"illicit\", len(\"elicit\"),len(\"illicit\")) "
      ],
      "metadata": {
        "colab": {
          "base_uri": "https://localhost:8080/"
        },
        "id": "gStyjpBoDMfB",
        "outputId": "64217432-6fbb-4f36-e9a4-136f435c5a51"
      },
      "execution_count": null,
      "outputs": [
        {
          "output_type": "execute_result",
          "data": {
            "text/plain": [
              "2"
            ]
          },
          "metadata": {},
          "execution_count": 3
        }
      ]
    },
    {
      "cell_type": "code",
      "source": [
        "editDistance(\"passed\", \"past\", len(\"passed\"),len(\"past\"))"
      ],
      "metadata": {
        "colab": {
          "base_uri": "https://localhost:8080/"
        },
        "id": "Q3seXqUSDagl",
        "outputId": "b424c069-f222-4eb6-e5c4-7654b585ba79"
      },
      "execution_count": null,
      "outputs": [
        {
          "output_type": "execute_result",
          "data": {
            "text/plain": [
              "3"
            ]
          },
          "metadata": {},
          "execution_count": 4
        }
      ]
    },
    {
      "cell_type": "code",
      "source": [
        "editDistance(\"headache\", \"\", len(\"headache\"),len(\"\"))"
      ],
      "metadata": {
        "colab": {
          "base_uri": "https://localhost:8080/"
        },
        "id": "bhVq46njDhjR",
        "outputId": "ca12e1ac-10b4-443d-d196-6836a5d72328"
      },
      "execution_count": null,
      "outputs": [
        {
          "output_type": "execute_result",
          "data": {
            "text/plain": [
              "8"
            ]
          },
          "metadata": {},
          "execution_count": 5
        }
      ]
    },
    {
      "cell_type": "code",
      "source": [
        "editDistance(\"achieve\", \"acheive\", len(\"achieve\"),len(\"acheive\"))"
      ],
      "metadata": {
        "colab": {
          "base_uri": "https://localhost:8080/"
        },
        "id": "iefzajRcyvJq",
        "outputId": "3d87294e-3a05-4842-dd23-a14664ae1944"
      },
      "execution_count": null,
      "outputs": [
        {
          "output_type": "execute_result",
          "data": {
            "text/plain": [
              "2"
            ]
          },
          "metadata": {},
          "execution_count": 2
        }
      ]
    },
    {
      "cell_type": "code",
      "source": [
        "editDistance(\"heregenus\", \"heterogeneous\", len(\"heregenus\"),len(\"heterogeneous\"))"
      ],
      "metadata": {
        "colab": {
          "base_uri": "https://localhost:8080/"
        },
        "id": "Rc0rOWo03kBN",
        "outputId": "21c5746f-2dd1-4151-b208-261de78d0cea"
      },
      "execution_count": null,
      "outputs": [
        {
          "output_type": "execute_result",
          "data": {
            "text/plain": [
              "5"
            ]
          },
          "metadata": {},
          "execution_count": 16
        }
      ]
    },
    {
      "cell_type": "code",
      "source": [
        "editDistance(\"properly\", \"proprle\", len(\"properly\"),len(\"proprle\"))"
      ],
      "metadata": {
        "colab": {
          "base_uri": "https://localhost:8080/"
        },
        "id": "dVdX-yIY465n",
        "outputId": "1900928e-45a3-482a-c2e7-92f54fb1471b"
      },
      "execution_count": null,
      "outputs": [
        {
          "output_type": "execute_result",
          "data": {
            "text/plain": [
              "2"
            ]
          },
          "metadata": {},
          "execution_count": 3
        }
      ]
    },
    {
      "cell_type": "markdown",
      "source": [
        "Question 2.    You will be given two strings of equal length . One string will be in a form that requires sequential rotation to get another. Your task is to find minimum number of shift operations  required for each character to convert one string to another."
      ],
      "metadata": {
        "id": "mzbuLZkfEEZC"
      }
    },
    {
      "cell_type": "code",
      "source": [
        "def right_shift_operations(str1, str2):\n",
        "  str_len = len(str1)\n",
        "  for i in range(1,str_len+1):\n",
        "    str2 = [char for char in str2]\n",
        "    str2 = [str2[-1]] + str2[0:-1]\n",
        "    str2 = ''.join((str2))\n",
        "    if(str1 == str2):\n",
        "      return i\n"
      ],
      "metadata": {
        "id": "0jJtB7FTDoKJ"
      },
      "execution_count": null,
      "outputs": []
    },
    {
      "cell_type": "code",
      "source": [
        "right_shift_operations(\"nabina\", \"anabin\")"
      ],
      "metadata": {
        "colab": {
          "base_uri": "https://localhost:8080/"
        },
        "id": "LD1O1Z3mE585",
        "outputId": "40c2b8ab-5e78-4959-ccfa-02dff884e778"
      },
      "execution_count": null,
      "outputs": [
        {
          "output_type": "execute_result",
          "data": {
            "text/plain": [
              "5"
            ]
          },
          "metadata": {},
          "execution_count": 5
        }
      ]
    },
    {
      "cell_type": "code",
      "source": [
        "def left_shift_operations(str1, str2):\n",
        "  str_len = len(str1)\n",
        "  if str1 == str2:\n",
        "    return 0\n",
        "  for i in range(1,str_len+1):\n",
        "    str2 = [char for char in str2]\n",
        "    str2 = str2[1:] + [str2[0]]\n",
        "    str2 = ''.join((str2))\n",
        "    if(str1 == str2):\n",
        "      return i\n"
      ],
      "metadata": {
        "id": "wbDD7BiZK2qL"
      },
      "execution_count": null,
      "outputs": []
    },
    {
      "cell_type": "code",
      "source": [
        "left_shift_operations(\"nabina\", \"anabin\")"
      ],
      "metadata": {
        "colab": {
          "base_uri": "https://localhost:8080/"
        },
        "id": "G-7Lt4_GFAVr",
        "outputId": "56d11651-6d32-4189-ae92-a45f6a7ce00d"
      },
      "execution_count": null,
      "outputs": [
        {
          "output_type": "execute_result",
          "data": {
            "text/plain": [
              "1"
            ]
          },
          "metadata": {},
          "execution_count": 7
        }
      ]
    },
    {
      "cell_type": "code",
      "source": [
        "min(left_shift_operations(\"nabina\", \"anabin\"),right_shift_operations(\"nabina\", \"anabin\"))"
      ],
      "metadata": {
        "colab": {
          "base_uri": "https://localhost:8080/"
        },
        "id": "FX2RxKSdHfty",
        "outputId": "3056207c-6323-457c-a182-5f8e6f23ad07"
      },
      "execution_count": null,
      "outputs": [
        {
          "output_type": "execute_result",
          "data": {
            "text/plain": [
              "1"
            ]
          },
          "metadata": {},
          "execution_count": 8
        }
      ]
    },
    {
      "cell_type": "code",
      "source": [
        "min(left_shift_operations(\"christmas\", \"maschrist\"),right_shift_operations(\"christmas\", \"maschrist\"))"
      ],
      "metadata": {
        "colab": {
          "base_uri": "https://localhost:8080/"
        },
        "id": "Muj2CcjnMdY3",
        "outputId": "2240f573-1db4-4ca9-e8ab-e2f8cb00e6dd"
      },
      "execution_count": null,
      "outputs": [
        {
          "output_type": "execute_result",
          "data": {
            "text/plain": [
              "3"
            ]
          },
          "metadata": {},
          "execution_count": 9
        }
      ]
    },
    {
      "cell_type": "code",
      "source": [
        "min(left_shift_operations(\"watermelon\", \"atermelonw\"),right_shift_operations(\"watermelon\", \"atermelonw\"))"
      ],
      "metadata": {
        "colab": {
          "base_uri": "https://localhost:8080/"
        },
        "id": "utFDwQihM8Na",
        "outputId": "224feca8-8047-4190-8823-87f3b43e8a41"
      },
      "execution_count": null,
      "outputs": [
        {
          "output_type": "execute_result",
          "data": {
            "text/plain": [
              "1"
            ]
          },
          "metadata": {},
          "execution_count": 10
        }
      ]
    },
    {
      "cell_type": "code",
      "source": [
        ""
      ],
      "metadata": {
        "id": "yRQTPsr5Ncd_"
      },
      "execution_count": null,
      "outputs": []
    },
    {
      "cell_type": "markdown",
      "source": [
        "Question 3. Input will be two strings **string1** and **string2**. Furthermore, each input string is a combination of two substrings. For example if **input** = **catmeat**\n",
        "Then we can see its a combination of two substrings **cat** and **meat**.\n",
        "\n",
        "\n",
        "Among two substrings(cat and meat) required to form  **input**, one substring can be inserted to another substring to form **input** from certain index to obtain twisted input. For example:\n",
        "If we insert meat into cat starting from index 1 of cat we get **cmeatat**\n",
        "\n",
        "Let **string1** = **cmeatat**\n",
        "Among two substring of **string1**, one substring can be in rotational form and inserted to another.\n",
        "Eg: **meat** can be transformed to **tmea** by one right shift operation. And then **tmea** is inserted to substring **cat** starting from index 1 of cat to get **ctmeaat**.\n",
        "\n",
        "Let **string2** = **ctmeaat**.\n",
        "\n",
        "Task is to find out minimum shift operations (in sequential order) to convert\n",
        "string1 to string2 .\n",
        "In this case minimum  shift operation required is 1(right shift for word **tmea** to get **meat** ."
      ],
      "metadata": {
        "id": "UJWZFzgTOBmN"
      }
    },
    {
      "cell_type": "code",
      "source": [
        "def jumbled_string(str1, str2):\n",
        "  str_len = len(str1)\n",
        "  first_str = [char for char in str1]\n",
        "  sec_str   = [char for char in str2]\n",
        "  for i in range(str_len):\n",
        "    if first_str[i] ==  sec_str[i]:\n",
        "      first_str[i] = \"\"\n",
        "      sec_str[i] = \"\"\n",
        "    # print(''.join(first_str), ''.join(sec_str))\n",
        "  first_str = ''.join(first_str)\n",
        "  sec_str = ''.join(sec_str)\n",
        "  return (min(left_shift_operations(first_str, sec_str),right_shift_operations(first_str, sec_str)))\n",
        "  "
      ],
      "metadata": {
        "id": "Xr5RFTHuQ_st"
      },
      "execution_count": null,
      "outputs": []
    },
    {
      "cell_type": "code",
      "source": [
        "# Python program to find the minimum number of\n",
        "# operations required to transform one string to other\n",
        "\n",
        "# Function to find minimum number of operations required\n",
        "# to transform A to B\n",
        "def minOps(A, B):\n",
        "\tm = len(A)\n",
        "\tn = len(B)\n",
        "\n",
        "\t# This part checks whether conversion is possible or not\n",
        "\tif n != m:\n",
        "\t\treturn -1\n",
        "\n",
        "\tcount = [0] * 256\n",
        "\n",
        "\tfor i in range(n):\t # count characters in A\n",
        "\t\tcount[ord(B[i])] += 1\n",
        "\tfor i in range(n):\t # subtract count for every char in B\n",
        "\t\tcount[ord(A[i])] -= 1\n",
        "\tfor i in range(256): # Check if all counts become 0\n",
        "\t\tif count[i]:\n",
        "\t\t\treturn -1\n",
        "\n",
        "\t# This part calculates the number of operations required\n",
        "\tres = 0\n",
        "\ti = n-1\n",
        "\tj = n-1\n",
        "\twhile i >= 0:\n",
        "\t\n",
        "\t\t# if there is a mismatch, then keep incrementing\n",
        "\t\t# result 'res' until B[j] is not found in A[0..i]\n",
        "\t\twhile i>= 0 and A[i] != B[j]:\n",
        "\t\t\ti -= 1\n",
        "\t\t\tres += 1\n",
        "\n",
        "\t\t# if A[i] and B[j] match\n",
        "\t\tif i >= 0:\n",
        "\t\t\ti -= 1\n",
        "\t\t\tj -= 1\n",
        "\n",
        "\treturn res\n",
        "\n",
        "# Driver program\n",
        "A = \"emigrate\"\n",
        "B = \"immigrate\"\n",
        "print (\"Minimum number of operations required is \" + str(minOps(A,B)))\n",
        "# This code is contributed by Bhavya Jain\n",
        "\n",
        "# not valid ans as answer should be two not -1"
      ],
      "metadata": {
        "colab": {
          "base_uri": "https://localhost:8080/"
        },
        "id": "0WfOlHSZXSx-",
        "outputId": "e52f3eb9-03cd-40c3-8874-de431e8358ad"
      },
      "execution_count": null,
      "outputs": [
        {
          "output_type": "stream",
          "name": "stdout",
          "text": [
            "Minimum number of operations required is -1\n"
          ]
        }
      ]
    },
    {
      "cell_type": "markdown",
      "source": [
        "# test cases\n",
        "\n",
        "#merrychristmas\n",
        "cmerryhristmas  \n",
        "cerrymhristmas\n",
        "\n",
        "#waterjuice\n",
        "waterjuice   \n",
        "erwatjuice\n",
        "\n",
        "#happyyear\n",
        "yehappyar    \n",
        "yepyhapar\n",
        "\n",
        "#nabinapandey\n",
        "pnabinaandey\n",
        "\n",
        "panabinandey\n",
        "\n",
        "\n",
        "  \n",
        "#wrappereffect  \n",
        "wrappeeffectr\n",
        "\n",
        "wrappeffecter\n",
        "\n",
        "\n",
        "#deciduousforest\n",
        "foredeciduousst\n",
        "\n",
        "foreiduousdecst"
      ],
      "metadata": {
        "id": "Is_AMJ4GW8-A"
      }
    },
    {
      "cell_type": "code",
      "source": [
        "jumbled_string(\"cmerryhristmas\",\"cerrymhristmas\")"
      ],
      "metadata": {
        "colab": {
          "base_uri": "https://localhost:8080/"
        },
        "id": "Lzylt5dEU0qt",
        "outputId": "b2166441-7311-4f9a-a5c6-91242c8e1315"
      },
      "execution_count": null,
      "outputs": [
        {
          "output_type": "execute_result",
          "data": {
            "text/plain": [
              "1"
            ]
          },
          "metadata": {},
          "execution_count": 13
        }
      ]
    },
    {
      "cell_type": "code",
      "source": [
        "jumbled_string(\"waterjuice\",\"erwatjuice\")"
      ],
      "metadata": {
        "colab": {
          "base_uri": "https://localhost:8080/"
        },
        "id": "f56gHDWvU6wG",
        "outputId": "1a441f14-f953-4f17-f872-14881a8c487d"
      },
      "execution_count": null,
      "outputs": [
        {
          "output_type": "execute_result",
          "data": {
            "text/plain": [
              "2"
            ]
          },
          "metadata": {},
          "execution_count": 87
        }
      ]
    },
    {
      "cell_type": "code",
      "source": [
        "jumbled_string(\"yehappyar\",\"yepyhapar\")\n"
      ],
      "metadata": {
        "colab": {
          "base_uri": "https://localhost:8080/"
        },
        "id": "nnDnlvl6WmPl",
        "outputId": "fae33e4b-56c4-497a-9387-57e52ea6604b"
      },
      "execution_count": null,
      "outputs": [
        {
          "output_type": "execute_result",
          "data": {
            "text/plain": [
              "2"
            ]
          },
          "metadata": {},
          "execution_count": 88
        }
      ]
    },
    {
      "cell_type": "code",
      "source": [
        "jumbled_string(\"pnabinaandey\",\"panabinandey\")\n"
      ],
      "metadata": {
        "colab": {
          "base_uri": "https://localhost:8080/"
        },
        "id": "6WBLmDmmWyoy",
        "outputId": "c57cb0cc-e101-4e61-e29a-081839bf9334"
      },
      "execution_count": null,
      "outputs": [
        {
          "output_type": "execute_result",
          "data": {
            "text/plain": [
              "1"
            ]
          },
          "metadata": {},
          "execution_count": 89
        }
      ]
    },
    {
      "cell_type": "code",
      "source": [
        "jumbled_string(\"wrappeeffectr\",\"wrappeffecter\")\n"
      ],
      "metadata": {
        "id": "aPAQUN2QfoyQ",
        "colab": {
          "base_uri": "https://localhost:8080/"
        },
        "outputId": "f11591ba-8a62-4570-f005-2abfdb80a80e"
      },
      "execution_count": null,
      "outputs": [
        {
          "output_type": "execute_result",
          "data": {
            "text/plain": [
              "1"
            ]
          },
          "metadata": {},
          "execution_count": 14
        }
      ]
    },
    {
      "cell_type": "code",
      "source": [
        "jumbled_string(\"foredeciduousst\",\"foreiduousdecst\")\n"
      ],
      "metadata": {
        "colab": {
          "base_uri": "https://localhost:8080/"
        },
        "id": "tn7iHmFW2fD7",
        "outputId": "d893f128-6456-43bb-f991-36325f4c8b2b"
      },
      "execution_count": null,
      "outputs": [
        {
          "output_type": "execute_result",
          "data": {
            "text/plain": [
              "3"
            ]
          },
          "metadata": {},
          "execution_count": 15
        }
      ]
    },
    {
      "cell_type": "code",
      "source": [
        "jumbled_string(\"codcoffeee\",\"codoffeece\")\n"
      ],
      "metadata": {
        "id": "e51ki5kW2-tb",
        "colab": {
          "base_uri": "https://localhost:8080/"
        },
        "outputId": "392c71d6-4dcd-4a5c-f5cc-2ed0cbe2002f"
      },
      "execution_count": null,
      "outputs": [
        {
          "output_type": "execute_result",
          "data": {
            "text/plain": [
              "1"
            ]
          },
          "metadata": {},
          "execution_count": 14
        }
      ]
    },
    {
      "cell_type": "code",
      "source": [
        ""
      ],
      "metadata": {
        "id": "AywTO0Ur7dVQ"
      },
      "execution_count": null,
      "outputs": []
    },
    {
      "cell_type": "markdown",
      "source": [
        "My Fav Song Solution: \n"
      ],
      "metadata": {
        "id": "MYrk_HGlMhSH"
      }
    },
    {
      "cell_type": "code",
      "source": [
        "n=int(input())\n",
        "song=input()\n",
        "k=int(input())\n",
        "songs=song.split()\n",
        "x=songs[k-1]\n",
        "sorted=[]\n",
        "for i in songs:\n",
        "    sorted.append(int(i))\n",
        "sorted.sort()\n",
        "pos=sorted.index(int(x))\n",
        "print(pos+1)"
      ],
      "metadata": {
        "id": "hirXb-IqMb31"
      },
      "execution_count": null,
      "outputs": []
    },
    {
      "cell_type": "markdown",
      "source": [
        "Nasa Secret Mission Solution:"
      ],
      "metadata": {
        "id": "zOPktofnMvF0"
      }
    },
    {
      "cell_type": "code",
      "source": [
        "n=int(input())\n",
        "l1=list(map(int,input().split()))\n",
        "l1.sort()\n",
        "total=0\n",
        "a=l1[0]\n",
        "if len(l1)>1:\n",
        "    for i in range(1,len(l1)):\n",
        "        total=total + l1[i]*a\n",
        "    print(total)\n",
        "else:\n",
        "    print(l1[0])"
      ],
      "metadata": {
        "id": "jbOw6vvgMx5Z"
      },
      "execution_count": null,
      "outputs": []
    },
    {
      "cell_type": "code",
      "source": [
        ""
      ],
      "metadata": {
        "id": "t2Rm-d7OMylp"
      },
      "execution_count": null,
      "outputs": []
    },
    {
      "cell_type": "markdown",
      "source": [
        "## Recharge Pin Solution"
      ],
      "metadata": {
        "id": "YHaHhdLkNBkF"
      }
    },
    {
      "cell_type": "code",
      "source": [
        "import math\n",
        "import itertools\n",
        "\n",
        "def answer(k):\n",
        "    # A number is divisible by 11 if and only the difference between the sum\n",
        "    # of the digits of odd index and the sum of the digits of even index is\n",
        "    # divisible by 11.\n",
        "    # A solution is to generate all distinct combinations of 10 digits and\n",
        "    # after checking that it leads to a difference divisible by 11, compute\n",
        "    # the corresponding contribution.\n",
        "    # For each distinct comb c, if comp is the complement of c in possible PIN\n",
        "    # contribution is :\n",
        "    # C = number_of_valid_perm(c) * number_of_valid_perm(comp)\n",
        "    #   = nb_perm_with_rep_without_lead_0(c) * nb_perm_with_rep(comp)\n",
        "    #     len(c) - nb(0, c)       len(c) !        len(comb) !\n",
        "    #   = ----------------- * ----------------- * ------------------\n",
        "    #           len(c)        prod(multipli_c!)   prod(multipl_comp!)\n",
        "    # because each elements appears at most twice and number of dup in\n",
        "    #  c is the number of dup in comp\n",
        "    #      nb(non-0, c) * (len(c) - 1) ! * len(c) !\n",
        "    # C =  ----------------------------------------\n",
        "    #        2 ^ (2 * nb_duplicates(c))\n",
        "    digits = list(range(k+1))\n",
        "    s = 2 * sum(digits)\n",
        "    comb_len = len(digits)\n",
        "    prod_fact = math.factorial(comb_len) * math.factorial(comb_len - 1)\n",
        "    total = 0\n",
        "    # Next 6 lines are just a tedious but efficient way to generate distinct\n",
        "    # combinations. \"for c in itertools.combinations(numbers, comb_len):\"\n",
        "    # would work too but would need to have duplicates removed (with a set for\n",
        "    # instance). However, it would be pretty tedious to adapt if the format\n",
        "    # was to ever change.\n",
        "    # It first selects the distinct digits that are used, then add the\n",
        "    # duplicates.\n",
        "    for l in range(comb_len + 1):  # first 5 iterations are pointless but...\n",
        "        nb_dup = comb_len - l\n",
        "        pow_two = 2 ** (2 * nb_dup)\n",
        "        for dist_dig in itertools.combinations(digits, l):\n",
        "            for dup in itertools.combinations(dist_dig, nb_dup):\n",
        "                c = dist_dig + dup\n",
        "                if (2 * sum(c) - s) % 11 == 0:\n",
        "                    total += len([x for x in c if x]) * prod_fact // pow_two\n",
        "    return total\n",
        "\n",
        "\n",
        "for i in range(10):\n",
        "    print(i, answer(i))"
      ],
      "metadata": {
        "id": "RoZGYlNeNCjK"
      },
      "execution_count": null,
      "outputs": []
    },
    {
      "cell_type": "code",
      "source": [
        ""
      ],
      "metadata": {
        "id": "WM6d5WsnNM3V"
      },
      "execution_count": null,
      "outputs": []
    }
  ]
}